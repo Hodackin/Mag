{
 "cells": [
  {
   "cell_type": "code",
   "execution_count": 14,
   "metadata": {
    "collapsed": true,
    "pycharm": {
     "name": "#%%\n"
    }
   },
   "outputs": [
    {
     "data": {
      "text/plain": "   BodyFat  Age  Weight  Height  Neck  Chest  Abdomen    Hip  Thigh  Knee  \\\n0     12.3   23  154.25   67.75  36.2   93.1     85.2   94.5   59.0  37.3   \n1      6.1   22  173.25   72.25  38.5   93.6     83.0   98.7   58.7  37.3   \n2     25.3   22  154.00   66.25  34.0   95.8     87.9   99.2   59.6  38.9   \n3     10.4   26  184.75   72.25  37.4  101.8     86.4  101.2   60.1  37.3   \n4     28.7   24  184.25   71.25  34.4   97.3    100.0  101.9   63.2  42.2   \n\n   Ankle  Biceps  Forearm  Wrist  \n0   21.9    32.0     27.4   17.1  \n1   23.4    30.5     28.9   18.2  \n2   24.0    28.8     25.2   16.6  \n3   22.8    32.4     29.4   18.2  \n4   24.0    32.2     27.7   17.7  ",
      "text/html": "<div>\n<style scoped>\n    .dataframe tbody tr th:only-of-type {\n        vertical-align: middle;\n    }\n\n    .dataframe tbody tr th {\n        vertical-align: top;\n    }\n\n    .dataframe thead th {\n        text-align: right;\n    }\n</style>\n<table border=\"1\" class=\"dataframe\">\n  <thead>\n    <tr style=\"text-align: right;\">\n      <th></th>\n      <th>BodyFat</th>\n      <th>Age</th>\n      <th>Weight</th>\n      <th>Height</th>\n      <th>Neck</th>\n      <th>Chest</th>\n      <th>Abdomen</th>\n      <th>Hip</th>\n      <th>Thigh</th>\n      <th>Knee</th>\n      <th>Ankle</th>\n      <th>Biceps</th>\n      <th>Forearm</th>\n      <th>Wrist</th>\n    </tr>\n  </thead>\n  <tbody>\n    <tr>\n      <th>0</th>\n      <td>12.3</td>\n      <td>23</td>\n      <td>154.25</td>\n      <td>67.75</td>\n      <td>36.2</td>\n      <td>93.1</td>\n      <td>85.2</td>\n      <td>94.5</td>\n      <td>59.0</td>\n      <td>37.3</td>\n      <td>21.9</td>\n      <td>32.0</td>\n      <td>27.4</td>\n      <td>17.1</td>\n    </tr>\n    <tr>\n      <th>1</th>\n      <td>6.1</td>\n      <td>22</td>\n      <td>173.25</td>\n      <td>72.25</td>\n      <td>38.5</td>\n      <td>93.6</td>\n      <td>83.0</td>\n      <td>98.7</td>\n      <td>58.7</td>\n      <td>37.3</td>\n      <td>23.4</td>\n      <td>30.5</td>\n      <td>28.9</td>\n      <td>18.2</td>\n    </tr>\n    <tr>\n      <th>2</th>\n      <td>25.3</td>\n      <td>22</td>\n      <td>154.00</td>\n      <td>66.25</td>\n      <td>34.0</td>\n      <td>95.8</td>\n      <td>87.9</td>\n      <td>99.2</td>\n      <td>59.6</td>\n      <td>38.9</td>\n      <td>24.0</td>\n      <td>28.8</td>\n      <td>25.2</td>\n      <td>16.6</td>\n    </tr>\n    <tr>\n      <th>3</th>\n      <td>10.4</td>\n      <td>26</td>\n      <td>184.75</td>\n      <td>72.25</td>\n      <td>37.4</td>\n      <td>101.8</td>\n      <td>86.4</td>\n      <td>101.2</td>\n      <td>60.1</td>\n      <td>37.3</td>\n      <td>22.8</td>\n      <td>32.4</td>\n      <td>29.4</td>\n      <td>18.2</td>\n    </tr>\n    <tr>\n      <th>4</th>\n      <td>28.7</td>\n      <td>24</td>\n      <td>184.25</td>\n      <td>71.25</td>\n      <td>34.4</td>\n      <td>97.3</td>\n      <td>100.0</td>\n      <td>101.9</td>\n      <td>63.2</td>\n      <td>42.2</td>\n      <td>24.0</td>\n      <td>32.2</td>\n      <td>27.7</td>\n      <td>17.7</td>\n    </tr>\n  </tbody>\n</table>\n</div>"
     },
     "execution_count": 14,
     "metadata": {},
     "output_type": "execute_result"
    }
   ],
   "source": [
    "import numpy as np\n",
    "import pandas as pd\n",
    "from time import process_time\n",
    "\n",
    "df = pd.read_csv('../bodyfat.csv')\n",
    "df.drop(columns=\"Density\", inplace=True)\n",
    "df.head()"
   ]
  },
  {
   "cell_type": "code",
   "execution_count": 15,
   "outputs": [],
   "source": [
    "from sklearn.preprocessing import MaxAbsScaler, StandardScaler\n",
    "\n",
    "scaler = MaxAbsScaler()"
   ],
   "metadata": {
    "collapsed": false,
    "pycharm": {
     "name": "#%%\n"
    }
   }
  },
  {
   "cell_type": "code",
   "execution_count": 16,
   "outputs": [],
   "source": [
    "from src.method_1 import SGTM_GRNN\n",
    "from src.GRNN_ import GRNN\n",
    "from src.SGTM import GTM"
   ],
   "metadata": {
    "collapsed": false,
    "pycharm": {
     "name": "#%%\n"
    }
   }
  },
  {
   "cell_type": "code",
   "execution_count": 17,
   "outputs": [],
   "source": [
    "def errors_to_dict(description, mae, rmse, time=None):\n",
    "    temp = {\n",
    "        description: {\n",
    "            \"MAE\": mae,\n",
    "            \"RMSE\": rmse,\n",
    "            \"time(sec)\": time\n",
    "        }\n",
    "    }\n",
    "    return pd.DataFrame(temp).T"
   ],
   "metadata": {
    "collapsed": false,
    "pycharm": {
     "name": "#%%\n"
    }
   }
  },
  {
   "cell_type": "code",
   "execution_count": 55,
   "outputs": [],
   "source": [
    "def print_scores(results):\n",
    "    mae_test = np.mean([np.mean(-item[\"test_neg_mean_absolute_error\"]) for item in results])\n",
    "    rmse_test = np.mean([np.mean(-item[\"test_neg_root_mean_squared_error\"]) for item in results])\n",
    "    mae_train = np.mean([np.mean(-item[\"train_neg_mean_absolute_error\"]) for item in results])\n",
    "    rmse_train = np.mean([np.mean(-item[\"train_neg_root_mean_squared_error\"]) for item in results])\n",
    "    print(f\"Test scores:\\nMAE: {mae_test}\\nRMSE: {rmse_test}\\n\\n\"\n",
    "          f\"Train scores:\\nMAE: {mae_train}\\nRMSE: {rmse_train}\\n\")\n",
    "\n",
    "scoring = [\"neg_mean_absolute_error\", \"neg_root_mean_squared_error\"]"
   ],
   "metadata": {
    "collapsed": false,
    "pycharm": {
     "name": "#%%\n"
    }
   }
  },
  {
   "cell_type": "code",
   "execution_count": 19,
   "outputs": [],
   "source": [
    "from sklearn.model_selection import cross_validate\n",
    "\n",
    "\n",
    "def repeat(func):\n",
    "    def wrapper(df, n=20, k=5):\n",
    "        results = []\n",
    "\n",
    "        start = process_time()\n",
    "        for _ in range(n):\n",
    "            # shaffle\n",
    "            df = df.sample(frac=1)\n",
    "            y = df.BodyFat\n",
    "            X = df.drop(columns=\"BodyFat\").to_numpy()\n",
    "\n",
    "            # scaler = StandardScaler()\n",
    "            X = scaler.fit_transform(X)\n",
    "\n",
    "            scores = func(X, y, k)\n",
    "            results.append(scores)\n",
    "        return results, process_time() - start\n",
    "    return wrapper"
   ],
   "metadata": {
    "collapsed": false,
    "pycharm": {
     "name": "#%%\n"
    }
   }
  },
  {
   "cell_type": "code",
   "execution_count": 48,
   "outputs": [],
   "source": [
    "@repeat\n",
    "def sgtm_grnn(X, y, cv):\n",
    "    clf = SGTM_GRNN(sigma=0.08)\n",
    "    scores = cross_validate(\n",
    "        clf, X, y, cv=cv,\n",
    "        scoring=scoring,\n",
    "        return_train_score=True\n",
    "    )\n",
    "    return scores\n",
    "results, calc_time = sgtm_grnn(df)"
   ],
   "metadata": {
    "collapsed": false,
    "pycharm": {
     "name": "#%%\n"
    }
   }
  },
  {
   "cell_type": "code",
   "execution_count": 56,
   "outputs": [
    {
     "name": "stdout",
     "output_type": "stream",
     "text": [
      "Calculation time: 3.65625\n",
      "Test scores:\n",
      "MAE: 3.315925634690023\n",
      "RMSE: 4.1469707586934295\n",
      "\n",
      "Train scores:\n",
      "MAE: 2.799861322409623\n",
      "RMSE: 3.5132796037075407\n",
      "\n"
     ]
    }
   ],
   "source": [
    "print(f\"Calculation time: {calc_time}\")\n",
    "print_scores(results)"
   ],
   "metadata": {
    "collapsed": false,
    "pycharm": {
     "name": "#%%\n"
    }
   }
  },
  {
   "cell_type": "code",
   "execution_count": 22,
   "outputs": [],
   "source": [
    "@repeat\n",
    "def sgtm(X, y, cv):\n",
    "    clf = GTM(numb_of_steps=X.shape[1])\n",
    "    scores = cross_validate(\n",
    "        clf, X, y, cv=cv,\n",
    "        scoring=scoring,\n",
    "        return_train_score=True\n",
    "    )\n",
    "    return scores\n",
    "\n",
    "\n",
    "results, calc_time = sgtm(df)"
   ],
   "metadata": {
    "collapsed": false,
    "pycharm": {
     "name": "#%%\n"
    }
   }
  },
  {
   "cell_type": "code",
   "execution_count": 23,
   "outputs": [
    {
     "name": "stdout",
     "output_type": "stream",
     "text": [
      "Calculation time: 0.859375\n",
      "Test scores:\n",
      "MAE: 3.6667719787653814\n",
      "RMSE: 4.485579518079564\n",
      "\n",
      "Train scores:\n",
      "MAE: 3.417824574838513\n",
      "RMSE: 4.161816312890316\n",
      "\n"
     ]
    }
   ],
   "source": [
    "print(f\"Calculation time: {calc_time}\")\n",
    "print_scores(results)"
   ],
   "metadata": {
    "collapsed": false,
    "pycharm": {
     "name": "#%%\n"
    }
   }
  },
  {
   "cell_type": "code",
   "execution_count": 24,
   "outputs": [],
   "source": [
    "@repeat\n",
    "def grnn(X, y, cv):\n",
    "    clf = GRNN(sigma=0.079)\n",
    "    scores = cross_validate(\n",
    "        clf, X, y, cv=cv,\n",
    "        scoring=scoring,\n",
    "        return_train_score=True\n",
    "    )\n",
    "    return scores\n",
    "\n",
    "\n",
    "results, calc_time = grnn(df)"
   ],
   "metadata": {
    "collapsed": false,
    "pycharm": {
     "name": "#%%\n"
    }
   }
  },
  {
   "cell_type": "code",
   "execution_count": 25,
   "outputs": [
    {
     "name": "stdout",
     "output_type": "stream",
     "text": [
      "Calculation time: 2.359375\n",
      "Test scores:\n",
      "MAE: 4.516603338251232\n",
      "RMSE: 5.445908509996508\n",
      "\n",
      "Train scores:\n",
      "MAE: 3.6413934813949638\n",
      "RMSE: 4.466171048696301\n",
      "\n"
     ]
    }
   ],
   "source": [
    "print(f\"Calculation time: {calc_time}\")\n",
    "print_scores(results)"
   ],
   "metadata": {
    "collapsed": false,
    "pycharm": {
     "name": "#%%\n"
    }
   }
  },
  {
   "cell_type": "markdown",
   "source": [
    "## Repeat the experiments from the article to be sure"
   ],
   "metadata": {
    "collapsed": false,
    "pycharm": {
     "name": "#%% md\n"
    }
   }
  },
  {
   "cell_type": "code",
   "execution_count": 26,
   "outputs": [],
   "source": [
    "from sklearn.ensemble import RandomForestRegressor\n",
    "\n",
    "@repeat\n",
    "def rf(X, y, cv):\n",
    "    clf = RandomForestRegressor(n_estimators=1000, max_depth=5)\n",
    "    scores = cross_validate(\n",
    "        clf, X, y, cv=cv,\n",
    "        scoring=scoring,\n",
    "        return_train_score=True\n",
    "    )\n",
    "    return scores\n",
    "\n",
    "results, calc_time = rf(df)"
   ],
   "metadata": {
    "collapsed": false,
    "pycharm": {
     "name": "#%%\n"
    }
   }
  },
  {
   "cell_type": "code",
   "execution_count": 27,
   "outputs": [
    {
     "name": "stdout",
     "output_type": "stream",
     "text": [
      "Calculation time: 325.90625\n",
      "Test scores:\n",
      "MAE: 3.852658333419753\n",
      "RMSE: 4.695583658361156\n",
      "\n",
      "Train scores:\n",
      "MAE: 2.2655436444119372\n",
      "RMSE: 2.727779874014659\n",
      "\n"
     ]
    }
   ],
   "source": [
    "print(f\"Calculation time: {calc_time}\")\n",
    "print_scores(results)"
   ],
   "metadata": {
    "collapsed": false,
    "pycharm": {
     "name": "#%%\n"
    }
   }
  },
  {
   "cell_type": "code",
   "execution_count": 28,
   "outputs": [],
   "source": [
    "from sklearn.svm import SVR\n",
    "\n",
    "@repeat\n",
    "def rf(X, y, cv):\n",
    "    clf = SVR(C=10.0, epsilon=0.01)\n",
    "    scores = cross_validate(\n",
    "        clf, X, y, cv=cv,\n",
    "        scoring=scoring,\n",
    "        return_train_score=True\n",
    "    )\n",
    "    return scores\n",
    "\n",
    "results, calc_time = rf(df)"
   ],
   "metadata": {
    "collapsed": false,
    "pycharm": {
     "name": "#%%\n"
    }
   }
  },
  {
   "cell_type": "code",
   "execution_count": 29,
   "outputs": [
    {
     "name": "stdout",
     "output_type": "stream",
     "text": [
      "Calculation time: 1.21875\n",
      "Test scores:\n",
      "MAE: 3.785889211971687\n",
      "RMSE: 4.629165961135543\n",
      "\n",
      "Train scores:\n",
      "MAE: 3.150746095881393\n",
      "RMSE: 4.095125363362994\n",
      "\n"
     ]
    }
   ],
   "source": [
    "print(f\"Calculation time: {calc_time}\")\n",
    "print_scores(results)"
   ],
   "metadata": {
    "collapsed": false,
    "pycharm": {
     "name": "#%%\n"
    }
   }
  },
  {
   "cell_type": "code",
   "execution_count": 30,
   "outputs": [],
   "source": [
    "from sklearn.neural_network import MLPRegressor\n",
    "\n",
    "@repeat\n",
    "def rf(X, y, cv):\n",
    "    clf = MLPRegressor(500, max_iter=500)\n",
    "    scores = cross_validate(\n",
    "        clf, X, y, cv=cv,\n",
    "        scoring=scoring,\n",
    "        return_train_score=True\n",
    "    )\n",
    "    return scores\n",
    "\n",
    "\n",
    "results, calc_time = rf(df)"
   ],
   "metadata": {
    "collapsed": false,
    "pycharm": {
     "name": "#%%\n"
    }
   }
  },
  {
   "cell_type": "code",
   "execution_count": 31,
   "outputs": [
    {
     "name": "stdout",
     "output_type": "stream",
     "text": [
      "Calculation time: 133.890625\n",
      "Test scores:\n",
      "MAE: 6.378877638909438\n",
      "RMSE: 7.7320153248276755\n",
      "\n",
      "Train scores:\n",
      "MAE: 6.360134807758287\n",
      "RMSE: 7.735201713248881\n",
      "\n"
     ]
    }
   ],
   "source": [
    "print(f\"Calculation time: {calc_time}\")\n",
    "print_scores(results)"
   ],
   "metadata": {
    "collapsed": false,
    "pycharm": {
     "name": "#%%\n"
    }
   }
  },
  {
   "cell_type": "code",
   "execution_count": 31,
   "outputs": [],
   "source": [],
   "metadata": {
    "collapsed": false,
    "pycharm": {
     "name": "#%%\n"
    }
   }
  }
 ],
 "metadata": {
  "kernelspec": {
   "display_name": "Python 3",
   "language": "python",
   "name": "python3"
  },
  "language_info": {
   "codemirror_mode": {
    "name": "ipython",
    "version": 2
   },
   "file_extension": ".py",
   "mimetype": "text/x-python",
   "name": "python",
   "nbconvert_exporter": "python",
   "pygments_lexer": "ipython2",
   "version": "2.7.6"
  }
 },
 "nbformat": 4,
 "nbformat_minor": 0
}